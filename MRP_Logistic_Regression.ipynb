{
  "nbformat": 4,
  "nbformat_minor": 0,
  "metadata": {
    "colab": {
      "name": "MRP Logistic Regression.ipynb",
      "provenance": [],
      "collapsed_sections": [],
      "authorship_tag": "ABX9TyNFhyMxtoiZBHDTBFuvl9UZ"
    },
    "kernelspec": {
      "name": "python3",
      "display_name": "Python 3"
    },
    "language_info": {
      "name": "python"
    }
  },
  "cells": [
    {
      "cell_type": "markdown",
      "source": [
        "## **MSc Major Research Project**\n",
        "\n",
        "## **Exploring the effect of daytime physical activity on sleep quality**\n",
        "\n",
        "Melania Czobit"
      ],
      "metadata": {
        "id": "9AsMF7Mhz91o"
      }
    },
    {
      "cell_type": "code",
      "execution_count": null,
      "metadata": {
        "id": "U_LTYKgSwTnY",
        "colab": {
          "base_uri": "https://localhost:8080/"
        },
        "outputId": "28562c49-9f03-4902-e1ad-5964d05bae18"
      },
      "outputs": [
        {
          "output_type": "stream",
          "name": "stderr",
          "text": [
            "/usr/local/lib/python3.7/dist-packages/statsmodels/tools/_testing.py:19: FutureWarning: pandas.util.testing is deprecated. Use the functions in the public API at pandas.testing instead.\n",
            "  import pandas.util.testing as tm\n"
          ]
        }
      ],
      "source": [
        "import pandas as pd\n",
        "import numpy as np\n",
        "import seaborn as sns\n",
        "import matplotlib.pyplot as plt\n",
        "import matplotlib.dates as mdates\n",
        "\n",
        "from sklearn.model_selection import train_test_split, KFold, TimeSeriesSplit\n",
        "\n",
        "from sklearn import metrics \n",
        "from sklearn.metrics import confusion_matrix\n",
        "from sklearn.metrics import classification_report\n",
        "from sklearn.metrics import accuracy_score\n",
        "\n",
        "from sklearn import preprocessing\n",
        "import statsmodels.api as sm\n",
        "from sklearn.linear_model import LogisticRegression"
      ]
    },
    {
      "cell_type": "code",
      "source": [
        "from google.colab import drive\n",
        "drive.mount('/content/drive')"
      ],
      "metadata": {
        "colab": {
          "base_uri": "https://localhost:8080/"
        },
        "id": "jmf1f6xAwp0D",
        "outputId": "5bc904e4-e0f4-4ff0-b7a2-5ec80bb43fb4"
      },
      "execution_count": null,
      "outputs": [
        {
          "output_type": "stream",
          "name": "stdout",
          "text": [
            "Mounted at /content/drive\n"
          ]
        }
      ]
    },
    {
      "cell_type": "code",
      "source": [
        "path = '/content/drive/My Drive/MRP/FitbitClean.csv'\n",
        "df = pd.read_csv(path)\n",
        "df = df.drop(\"Unnamed: 0\",axis=1)\n",
        "df"
      ],
      "metadata": {
        "colab": {
          "base_uri": "https://localhost:8080/",
          "height": 661
        },
        "id": "quzGupriwr5C",
        "outputId": "cfdc149d-7712-403f-acd2-fb8c86047d8d"
      },
      "execution_count": null,
      "outputs": [
        {
          "output_type": "execute_result",
          "data": {
            "text/plain": [
              "             date    egoid  complypercent   meanrate     sdrate    steps  \\\n",
              "0      2015-08-01  67918.0           97.0  80.455666  14.178942  11419.0   \n",
              "1      2015-08-02  67918.0           59.0  93.715698  10.107015   9042.0   \n",
              "2      2015-08-03  67918.0           97.0  77.604469  12.975431   6327.0   \n",
              "3      2015-08-04  67918.0           59.0  90.791718  13.081469  13092.0   \n",
              "4      2015-08-05  67918.0          100.0  79.504982  14.706803  12689.0   \n",
              "...           ...      ...            ...        ...        ...      ...   \n",
              "45870  2016-07-28  36501.0           98.0  50.556137  13.650418   5965.0   \n",
              "45871  2016-07-29  36501.0           97.0  52.905212  13.897326   8814.0   \n",
              "45872  2016-07-30  36501.0           96.0  49.838959   8.438036   4890.0   \n",
              "45873  2016-07-31  36501.0           93.0  52.419224  15.835029  10229.0   \n",
              "45874  2016-08-01  36501.0           92.0  51.050632  10.805293   4851.0   \n",
              "\n",
              "       floors  sedentaryminutes  lightlyactiveminutes  fairlyactiveminutes  \\\n",
              "0        10.0             637.0                 217.0                 30.0   \n",
              "1        10.0            1174.0                 234.0                 26.0   \n",
              "2         6.0             673.0                 175.0                  7.0   \n",
              "3        18.0            1118.0                 205.0                 35.0   \n",
              "4        47.0             563.0                 261.0                 15.0   \n",
              "...       ...               ...                   ...                  ...   \n",
              "45870     6.0             647.0                 183.0                 26.0   \n",
              "45871    34.0             586.0                 244.0                 18.0   \n",
              "45872    11.0             698.0                 248.0                  4.0   \n",
              "45873     7.0             618.0                 225.0                 14.0   \n",
              "45874    30.0             766.0                 163.0                  4.0   \n",
              "\n",
              "       ...  weekday  timetobed  timeoutofbed  bedtimedur  minstofallasleep  \\\n",
              "0      ...        5   23:53:00       9:00:00       548.0               5.0   \n",
              "1      ...        6   23:53:00       9:00:00       548.0               5.0   \n",
              "2      ...        0    0:05:30       9:42:30       578.0               3.0   \n",
              "3      ...        1    0:05:30       9:42:30       578.0               3.0   \n",
              "4      ...        2   23:13:00       9:00:00       588.0               2.0   \n",
              "...    ...      ...        ...           ...         ...               ...   \n",
              "45870  ...        3   23:31:30       9:26:30       596.0               0.0   \n",
              "45871  ...        4    0:54:00      10:27:00       574.0               1.0   \n",
              "45872  ...        5    2:15:30      10:19:30       485.0               5.0   \n",
              "45873  ...        6    1:58:30       9:54:30       477.0              20.0   \n",
              "45874  ...        0   23:04:30       7:33:30       510.0               0.0   \n",
              "\n",
              "       minsafterwakeup  minsasleep minsawake Efficiency  class  \n",
              "0                  0.0       495.0      48.0   0.911602      5  \n",
              "1                  0.0       495.0      48.0   0.911602      5  \n",
              "2                  0.0       538.0      37.0   0.935652      5  \n",
              "3                  0.0       538.0      37.0   0.935652      5  \n",
              "4                  0.0       547.0      39.0   0.933447      5  \n",
              "...                ...         ...       ...        ...    ...  \n",
              "45870              0.0       538.0      58.0   0.902685      5  \n",
              "45871              0.0       553.0      20.0   0.965096      5  \n",
              "45872              0.0       449.0      31.0   0.935417      5  \n",
              "45873              0.0       434.0      23.0   0.949672      5  \n",
              "45874              0.0       464.0      46.0   0.909804      5  \n",
              "\n",
              "[45875 rows x 26 columns]"
            ],
            "text/html": [
              "\n",
              "  <div id=\"df-33023dc2-93d0-47e9-b648-ba2a96086b58\">\n",
              "    <div class=\"colab-df-container\">\n",
              "      <div>\n",
              "<style scoped>\n",
              "    .dataframe tbody tr th:only-of-type {\n",
              "        vertical-align: middle;\n",
              "    }\n",
              "\n",
              "    .dataframe tbody tr th {\n",
              "        vertical-align: top;\n",
              "    }\n",
              "\n",
              "    .dataframe thead th {\n",
              "        text-align: right;\n",
              "    }\n",
              "</style>\n",
              "<table border=\"1\" class=\"dataframe\">\n",
              "  <thead>\n",
              "    <tr style=\"text-align: right;\">\n",
              "      <th></th>\n",
              "      <th>date</th>\n",
              "      <th>egoid</th>\n",
              "      <th>complypercent</th>\n",
              "      <th>meanrate</th>\n",
              "      <th>sdrate</th>\n",
              "      <th>steps</th>\n",
              "      <th>floors</th>\n",
              "      <th>sedentaryminutes</th>\n",
              "      <th>lightlyactiveminutes</th>\n",
              "      <th>fairlyactiveminutes</th>\n",
              "      <th>...</th>\n",
              "      <th>weekday</th>\n",
              "      <th>timetobed</th>\n",
              "      <th>timeoutofbed</th>\n",
              "      <th>bedtimedur</th>\n",
              "      <th>minstofallasleep</th>\n",
              "      <th>minsafterwakeup</th>\n",
              "      <th>minsasleep</th>\n",
              "      <th>minsawake</th>\n",
              "      <th>Efficiency</th>\n",
              "      <th>class</th>\n",
              "    </tr>\n",
              "  </thead>\n",
              "  <tbody>\n",
              "    <tr>\n",
              "      <th>0</th>\n",
              "      <td>2015-08-01</td>\n",
              "      <td>67918.0</td>\n",
              "      <td>97.0</td>\n",
              "      <td>80.455666</td>\n",
              "      <td>14.178942</td>\n",
              "      <td>11419.0</td>\n",
              "      <td>10.0</td>\n",
              "      <td>637.0</td>\n",
              "      <td>217.0</td>\n",
              "      <td>30.0</td>\n",
              "      <td>...</td>\n",
              "      <td>5</td>\n",
              "      <td>23:53:00</td>\n",
              "      <td>9:00:00</td>\n",
              "      <td>548.0</td>\n",
              "      <td>5.0</td>\n",
              "      <td>0.0</td>\n",
              "      <td>495.0</td>\n",
              "      <td>48.0</td>\n",
              "      <td>0.911602</td>\n",
              "      <td>5</td>\n",
              "    </tr>\n",
              "    <tr>\n",
              "      <th>1</th>\n",
              "      <td>2015-08-02</td>\n",
              "      <td>67918.0</td>\n",
              "      <td>59.0</td>\n",
              "      <td>93.715698</td>\n",
              "      <td>10.107015</td>\n",
              "      <td>9042.0</td>\n",
              "      <td>10.0</td>\n",
              "      <td>1174.0</td>\n",
              "      <td>234.0</td>\n",
              "      <td>26.0</td>\n",
              "      <td>...</td>\n",
              "      <td>6</td>\n",
              "      <td>23:53:00</td>\n",
              "      <td>9:00:00</td>\n",
              "      <td>548.0</td>\n",
              "      <td>5.0</td>\n",
              "      <td>0.0</td>\n",
              "      <td>495.0</td>\n",
              "      <td>48.0</td>\n",
              "      <td>0.911602</td>\n",
              "      <td>5</td>\n",
              "    </tr>\n",
              "    <tr>\n",
              "      <th>2</th>\n",
              "      <td>2015-08-03</td>\n",
              "      <td>67918.0</td>\n",
              "      <td>97.0</td>\n",
              "      <td>77.604469</td>\n",
              "      <td>12.975431</td>\n",
              "      <td>6327.0</td>\n",
              "      <td>6.0</td>\n",
              "      <td>673.0</td>\n",
              "      <td>175.0</td>\n",
              "      <td>7.0</td>\n",
              "      <td>...</td>\n",
              "      <td>0</td>\n",
              "      <td>0:05:30</td>\n",
              "      <td>9:42:30</td>\n",
              "      <td>578.0</td>\n",
              "      <td>3.0</td>\n",
              "      <td>0.0</td>\n",
              "      <td>538.0</td>\n",
              "      <td>37.0</td>\n",
              "      <td>0.935652</td>\n",
              "      <td>5</td>\n",
              "    </tr>\n",
              "    <tr>\n",
              "      <th>3</th>\n",
              "      <td>2015-08-04</td>\n",
              "      <td>67918.0</td>\n",
              "      <td>59.0</td>\n",
              "      <td>90.791718</td>\n",
              "      <td>13.081469</td>\n",
              "      <td>13092.0</td>\n",
              "      <td>18.0</td>\n",
              "      <td>1118.0</td>\n",
              "      <td>205.0</td>\n",
              "      <td>35.0</td>\n",
              "      <td>...</td>\n",
              "      <td>1</td>\n",
              "      <td>0:05:30</td>\n",
              "      <td>9:42:30</td>\n",
              "      <td>578.0</td>\n",
              "      <td>3.0</td>\n",
              "      <td>0.0</td>\n",
              "      <td>538.0</td>\n",
              "      <td>37.0</td>\n",
              "      <td>0.935652</td>\n",
              "      <td>5</td>\n",
              "    </tr>\n",
              "    <tr>\n",
              "      <th>4</th>\n",
              "      <td>2015-08-05</td>\n",
              "      <td>67918.0</td>\n",
              "      <td>100.0</td>\n",
              "      <td>79.504982</td>\n",
              "      <td>14.706803</td>\n",
              "      <td>12689.0</td>\n",
              "      <td>47.0</td>\n",
              "      <td>563.0</td>\n",
              "      <td>261.0</td>\n",
              "      <td>15.0</td>\n",
              "      <td>...</td>\n",
              "      <td>2</td>\n",
              "      <td>23:13:00</td>\n",
              "      <td>9:00:00</td>\n",
              "      <td>588.0</td>\n",
              "      <td>2.0</td>\n",
              "      <td>0.0</td>\n",
              "      <td>547.0</td>\n",
              "      <td>39.0</td>\n",
              "      <td>0.933447</td>\n",
              "      <td>5</td>\n",
              "    </tr>\n",
              "    <tr>\n",
              "      <th>...</th>\n",
              "      <td>...</td>\n",
              "      <td>...</td>\n",
              "      <td>...</td>\n",
              "      <td>...</td>\n",
              "      <td>...</td>\n",
              "      <td>...</td>\n",
              "      <td>...</td>\n",
              "      <td>...</td>\n",
              "      <td>...</td>\n",
              "      <td>...</td>\n",
              "      <td>...</td>\n",
              "      <td>...</td>\n",
              "      <td>...</td>\n",
              "      <td>...</td>\n",
              "      <td>...</td>\n",
              "      <td>...</td>\n",
              "      <td>...</td>\n",
              "      <td>...</td>\n",
              "      <td>...</td>\n",
              "      <td>...</td>\n",
              "      <td>...</td>\n",
              "    </tr>\n",
              "    <tr>\n",
              "      <th>45870</th>\n",
              "      <td>2016-07-28</td>\n",
              "      <td>36501.0</td>\n",
              "      <td>98.0</td>\n",
              "      <td>50.556137</td>\n",
              "      <td>13.650418</td>\n",
              "      <td>5965.0</td>\n",
              "      <td>6.0</td>\n",
              "      <td>647.0</td>\n",
              "      <td>183.0</td>\n",
              "      <td>26.0</td>\n",
              "      <td>...</td>\n",
              "      <td>3</td>\n",
              "      <td>23:31:30</td>\n",
              "      <td>9:26:30</td>\n",
              "      <td>596.0</td>\n",
              "      <td>0.0</td>\n",
              "      <td>0.0</td>\n",
              "      <td>538.0</td>\n",
              "      <td>58.0</td>\n",
              "      <td>0.902685</td>\n",
              "      <td>5</td>\n",
              "    </tr>\n",
              "    <tr>\n",
              "      <th>45871</th>\n",
              "      <td>2016-07-29</td>\n",
              "      <td>36501.0</td>\n",
              "      <td>97.0</td>\n",
              "      <td>52.905212</td>\n",
              "      <td>13.897326</td>\n",
              "      <td>8814.0</td>\n",
              "      <td>34.0</td>\n",
              "      <td>586.0</td>\n",
              "      <td>244.0</td>\n",
              "      <td>18.0</td>\n",
              "      <td>...</td>\n",
              "      <td>4</td>\n",
              "      <td>0:54:00</td>\n",
              "      <td>10:27:00</td>\n",
              "      <td>574.0</td>\n",
              "      <td>1.0</td>\n",
              "      <td>0.0</td>\n",
              "      <td>553.0</td>\n",
              "      <td>20.0</td>\n",
              "      <td>0.965096</td>\n",
              "      <td>5</td>\n",
              "    </tr>\n",
              "    <tr>\n",
              "      <th>45872</th>\n",
              "      <td>2016-07-30</td>\n",
              "      <td>36501.0</td>\n",
              "      <td>96.0</td>\n",
              "      <td>49.838959</td>\n",
              "      <td>8.438036</td>\n",
              "      <td>4890.0</td>\n",
              "      <td>11.0</td>\n",
              "      <td>698.0</td>\n",
              "      <td>248.0</td>\n",
              "      <td>4.0</td>\n",
              "      <td>...</td>\n",
              "      <td>5</td>\n",
              "      <td>2:15:30</td>\n",
              "      <td>10:19:30</td>\n",
              "      <td>485.0</td>\n",
              "      <td>5.0</td>\n",
              "      <td>0.0</td>\n",
              "      <td>449.0</td>\n",
              "      <td>31.0</td>\n",
              "      <td>0.935417</td>\n",
              "      <td>5</td>\n",
              "    </tr>\n",
              "    <tr>\n",
              "      <th>45873</th>\n",
              "      <td>2016-07-31</td>\n",
              "      <td>36501.0</td>\n",
              "      <td>93.0</td>\n",
              "      <td>52.419224</td>\n",
              "      <td>15.835029</td>\n",
              "      <td>10229.0</td>\n",
              "      <td>7.0</td>\n",
              "      <td>618.0</td>\n",
              "      <td>225.0</td>\n",
              "      <td>14.0</td>\n",
              "      <td>...</td>\n",
              "      <td>6</td>\n",
              "      <td>1:58:30</td>\n",
              "      <td>9:54:30</td>\n",
              "      <td>477.0</td>\n",
              "      <td>20.0</td>\n",
              "      <td>0.0</td>\n",
              "      <td>434.0</td>\n",
              "      <td>23.0</td>\n",
              "      <td>0.949672</td>\n",
              "      <td>5</td>\n",
              "    </tr>\n",
              "    <tr>\n",
              "      <th>45874</th>\n",
              "      <td>2016-08-01</td>\n",
              "      <td>36501.0</td>\n",
              "      <td>92.0</td>\n",
              "      <td>51.050632</td>\n",
              "      <td>10.805293</td>\n",
              "      <td>4851.0</td>\n",
              "      <td>30.0</td>\n",
              "      <td>766.0</td>\n",
              "      <td>163.0</td>\n",
              "      <td>4.0</td>\n",
              "      <td>...</td>\n",
              "      <td>0</td>\n",
              "      <td>23:04:30</td>\n",
              "      <td>7:33:30</td>\n",
              "      <td>510.0</td>\n",
              "      <td>0.0</td>\n",
              "      <td>0.0</td>\n",
              "      <td>464.0</td>\n",
              "      <td>46.0</td>\n",
              "      <td>0.909804</td>\n",
              "      <td>5</td>\n",
              "    </tr>\n",
              "  </tbody>\n",
              "</table>\n",
              "<p>45875 rows × 26 columns</p>\n",
              "</div>\n",
              "      <button class=\"colab-df-convert\" onclick=\"convertToInteractive('df-33023dc2-93d0-47e9-b648-ba2a96086b58')\"\n",
              "              title=\"Convert this dataframe to an interactive table.\"\n",
              "              style=\"display:none;\">\n",
              "        \n",
              "  <svg xmlns=\"http://www.w3.org/2000/svg\" height=\"24px\"viewBox=\"0 0 24 24\"\n",
              "       width=\"24px\">\n",
              "    <path d=\"M0 0h24v24H0V0z\" fill=\"none\"/>\n",
              "    <path d=\"M18.56 5.44l.94 2.06.94-2.06 2.06-.94-2.06-.94-.94-2.06-.94 2.06-2.06.94zm-11 1L8.5 8.5l.94-2.06 2.06-.94-2.06-.94L8.5 2.5l-.94 2.06-2.06.94zm10 10l.94 2.06.94-2.06 2.06-.94-2.06-.94-.94-2.06-.94 2.06-2.06.94z\"/><path d=\"M17.41 7.96l-1.37-1.37c-.4-.4-.92-.59-1.43-.59-.52 0-1.04.2-1.43.59L10.3 9.45l-7.72 7.72c-.78.78-.78 2.05 0 2.83L4 21.41c.39.39.9.59 1.41.59.51 0 1.02-.2 1.41-.59l7.78-7.78 2.81-2.81c.8-.78.8-2.07 0-2.86zM5.41 20L4 18.59l7.72-7.72 1.47 1.35L5.41 20z\"/>\n",
              "  </svg>\n",
              "      </button>\n",
              "      \n",
              "  <style>\n",
              "    .colab-df-container {\n",
              "      display:flex;\n",
              "      flex-wrap:wrap;\n",
              "      gap: 12px;\n",
              "    }\n",
              "\n",
              "    .colab-df-convert {\n",
              "      background-color: #E8F0FE;\n",
              "      border: none;\n",
              "      border-radius: 50%;\n",
              "      cursor: pointer;\n",
              "      display: none;\n",
              "      fill: #1967D2;\n",
              "      height: 32px;\n",
              "      padding: 0 0 0 0;\n",
              "      width: 32px;\n",
              "    }\n",
              "\n",
              "    .colab-df-convert:hover {\n",
              "      background-color: #E2EBFA;\n",
              "      box-shadow: 0px 1px 2px rgba(60, 64, 67, 0.3), 0px 1px 3px 1px rgba(60, 64, 67, 0.15);\n",
              "      fill: #174EA6;\n",
              "    }\n",
              "\n",
              "    [theme=dark] .colab-df-convert {\n",
              "      background-color: #3B4455;\n",
              "      fill: #D2E3FC;\n",
              "    }\n",
              "\n",
              "    [theme=dark] .colab-df-convert:hover {\n",
              "      background-color: #434B5C;\n",
              "      box-shadow: 0px 1px 3px 1px rgba(0, 0, 0, 0.15);\n",
              "      filter: drop-shadow(0px 1px 2px rgba(0, 0, 0, 0.3));\n",
              "      fill: #FFFFFF;\n",
              "    }\n",
              "  </style>\n",
              "\n",
              "      <script>\n",
              "        const buttonEl =\n",
              "          document.querySelector('#df-33023dc2-93d0-47e9-b648-ba2a96086b58 button.colab-df-convert');\n",
              "        buttonEl.style.display =\n",
              "          google.colab.kernel.accessAllowed ? 'block' : 'none';\n",
              "\n",
              "        async function convertToInteractive(key) {\n",
              "          const element = document.querySelector('#df-33023dc2-93d0-47e9-b648-ba2a96086b58');\n",
              "          const dataTable =\n",
              "            await google.colab.kernel.invokeFunction('convertToInteractive',\n",
              "                                                     [key], {});\n",
              "          if (!dataTable) return;\n",
              "\n",
              "          const docLinkHtml = 'Like what you see? Visit the ' +\n",
              "            '<a target=\"_blank\" href=https://colab.research.google.com/notebooks/data_table.ipynb>data table notebook</a>'\n",
              "            + ' to learn more about interactive tables.';\n",
              "          element.innerHTML = '';\n",
              "          dataTable['output_type'] = 'display_data';\n",
              "          await google.colab.output.renderOutput(dataTable, element);\n",
              "          const docLink = document.createElement('div');\n",
              "          docLink.innerHTML = docLinkHtml;\n",
              "          element.appendChild(docLink);\n",
              "        }\n",
              "      </script>\n",
              "    </div>\n",
              "  </div>\n",
              "  "
            ]
          },
          "metadata": {},
          "execution_count": 40
        }
      ]
    },
    {
      "cell_type": "code",
      "source": [
        "df['class'] = df['class'].astype('category')"
      ],
      "metadata": {
        "id": "4ph49crUHBcJ"
      },
      "execution_count": null,
      "outputs": []
    },
    {
      "cell_type": "code",
      "source": [
        "import statsmodels\n",
        "from statsmodels.tsa.stattools import adfuller\n",
        "\n",
        "def test_stationarity(timeseries):\n",
        "\n",
        "  results = adfuller(timeseries, autolag='AIC')\n",
        "  # print('Results of Augmented Dickey Fuller Test')\n",
        "  # print('Test Statistic: ' + str(results[0]))\n",
        "  # print('p-value: ' + str(results[1]))\n",
        "  # print('No. of lags used: ' + str(results[2]))\n",
        "  # print('Number of observations used: ' + str(results[3]))\n",
        "\n",
        "  # for key, value in results[4].items():\n",
        "    # print('Critial Values:')\n",
        "    # print(f'   {key}, {value}')\n",
        "\n",
        "  if results[1] <= 0.05:\n",
        "    print (\"Reject null hypothesis. Data is stationary.\")\n",
        "  else:\n",
        "    print (\"Fail to reject null hypothesis. Data is non-stationary.\")"
      ],
      "metadata": {
        "id": "GyKtQWPkh5zm"
      },
      "execution_count": null,
      "outputs": []
    },
    {
      "cell_type": "code",
      "source": [
        "user = df[df.egoid == 33657]\n",
        "# user = df[df.egoid == 46558]\n",
        "user = user.set_index('date')\n",
        "test_stationarity(user['Efficiency'])\n",
        "user['Efficiency'].plot()"
      ],
      "metadata": {
        "colab": {
          "base_uri": "https://localhost:8080/",
          "height": 314
        },
        "id": "SnsjZISCkspL",
        "outputId": "8e05171a-57a4-4699-875d-ac6054fe9bd5"
      },
      "execution_count": null,
      "outputs": [
        {
          "output_type": "stream",
          "name": "stdout",
          "text": [
            "Reject null hypothesis. Data is stationary.\n"
          ]
        },
        {
          "output_type": "execute_result",
          "data": {
            "text/plain": [
              "<matplotlib.axes._subplots.AxesSubplot at 0x7f09acba3fd0>"
            ]
          },
          "metadata": {},
          "execution_count": 37
        },
        {
          "output_type": "display_data",
          "data": {
            "text/plain": [
              "<Figure size 432x288 with 1 Axes>"
            ],
            "image/png": "[encoded data removed]"
          },
          "metadata": {
            "needs_background": "light"
          }
        }
      ]
    },
    {
      "cell_type": "code",
      "source": [
        "# check stationarity \n",
        "df_st= df.copy()\n",
        "df_st = df_st.set_index('date')\n",
        "df_st = df_st.drop(['timetobed','timeoutofbed'],axis=1)\n",
        "for col in df_st.columns:\n",
        "  print(col)\n",
        "  test_stationarity(df[col])"
      ],
      "metadata": {
        "colab": {
          "base_uri": "https://localhost:8080/"
        },
        "id": "is-PPakYiceS",
        "outputId": "42f0593e-9fcc-4e6f-bae3-405349da13d6"
      },
      "execution_count": null,
      "outputs": [
        {
          "output_type": "stream",
          "name": "stdout",
          "text": [
            "egoid\n",
            "Reject null hypothesis. Data is stationary.\n",
            "complypercent\n",
            "Reject null hypothesis. Data is stationary.\n",
            "meanrate\n",
            "Reject null hypothesis. Data is stationary.\n",
            "sdrate\n",
            "Reject null hypothesis. Data is stationary.\n",
            "steps\n",
            "Reject null hypothesis. Data is stationary.\n",
            "floors\n",
            "Reject null hypothesis. Data is stationary.\n",
            "sedentaryminutes\n",
            "Reject null hypothesis. Data is stationary.\n",
            "lightlyactiveminutes\n",
            "Reject null hypothesis. Data is stationary.\n",
            "fairlyactiveminutes\n",
            "Reject null hypothesis. Data is stationary.\n",
            "veryactiveminutes\n",
            "Reject null hypothesis. Data is stationary.\n",
            "lowrangemins\n",
            "Reject null hypothesis. Data is stationary.\n",
            "fatburnmins\n",
            "Reject null hypothesis. Data is stationary.\n",
            "cardiomins\n",
            "Reject null hypothesis. Data is stationary.\n",
            "peakmins\n",
            "Reject null hypothesis. Data is stationary.\n",
            "month\n",
            "Reject null hypothesis. Data is stationary.\n",
            "weekday\n",
            "Reject null hypothesis. Data is stationary.\n",
            "bedtimedur\n",
            "Reject null hypothesis. Data is stationary.\n",
            "minstofallasleep\n",
            "Reject null hypothesis. Data is stationary.\n",
            "minsafterwakeup\n",
            "Reject null hypothesis. Data is stationary.\n",
            "minsasleep\n",
            "Reject null hypothesis. Data is stationary.\n",
            "minsawake\n",
            "Reject null hypothesis. Data is stationary.\n",
            "Efficiency\n",
            "Reject null hypothesis. Data is stationary.\n",
            "class\n",
            "Reject null hypothesis. Data is stationary.\n"
          ]
        }
      ]
    },
    {
      "cell_type": "code",
      "source": [
        "df['class'].value_counts()"
      ],
      "metadata": {
        "colab": {
          "base_uri": "https://localhost:8080/"
        },
        "id": "9XmFw1mnMLhm",
        "outputId": "157e96a6-2950-4585-ca88-ec14b11ac0fe"
      },
      "execution_count": null,
      "outputs": [
        {
          "output_type": "execute_result",
          "data": {
            "text/plain": [
              "5    45302\n",
              "3      337\n",
              "4      179\n",
              "2       52\n",
              "1        5\n",
              "Name: class, dtype: int64"
            ]
          },
          "metadata": {},
          "execution_count": 8
        }
      ]
    },
    {
      "cell_type": "markdown",
      "source": [
        "### **Linear Regression**"
      ],
      "metadata": {
        "id": "nYgDOJrbDKrX"
      }
    },
    {
      "cell_type": "code",
      "source": [
        "import statsmodels.api as sm\n",
        "df2 = df.copy()\n",
        "df2 = df2.set_index('date')\n",
        "\n",
        "# df2\n",
        "x_columns = [\"meanrate\", \"sdrate\", \"steps\", \"floors\", \"sedentaryminutes\", \"lightlyactiveminutes\", \"fairlyactiveminutes\", \"veryactiveminutes\",\"lowrangemins\",\"fatburnmins\",\"cardiomins\",\"peakmins\", \"month\", \"weekday\"]\n",
        "y = df2[\"Efficiency\"]\n",
        "\n",
        "\n",
        "def get_stats():\n",
        "    x = df2[x_columns]\n",
        "    results = sm.OLS(y, x).fit()\n",
        "    print(results.summary())\n",
        "get_stats()"
      ],
      "metadata": {
        "colab": {
          "base_uri": "https://localhost:8080/"
        },
        "id": "GWLBFo8VDJcG",
        "outputId": "ff2fc17c-7246-420e-fba7-d6cc5e4f054d"
      },
      "execution_count": null,
      "outputs": [
        {
          "output_type": "stream",
          "name": "stdout",
          "text": [
            "                                 OLS Regression Results                                \n",
            "=======================================================================================\n",
            "Dep. Variable:             Efficiency   R-squared (uncentered):                   0.994\n",
            "Model:                            OLS   Adj. R-squared (uncentered):              0.994\n",
            "Method:                 Least Squares   F-statistic:                          5.859e+05\n",
            "Date:                Sat, 06 Aug 2022   Prob (F-statistic):                        0.00\n",
            "Time:                        16:46:08   Log-Likelihood:                          56876.\n",
            "No. Observations:               45875   AIC:                                 -1.137e+05\n",
            "Df Residuals:                   45861   BIC:                                 -1.136e+05\n",
            "Df Model:                          14                                                  \n",
            "Covariance Type:            nonrobust                                                  \n",
            "========================================================================================\n",
            "                           coef    std err          t      P>|t|      [0.025      0.975]\n",
            "----------------------------------------------------------------------------------------\n",
            "meanrate                 0.0061    4.8e-05    127.415      0.000       0.006       0.006\n",
            "sdrate                   0.0106      0.000     81.227      0.000       0.010       0.011\n",
            "steps                -1.596e-06   1.05e-07    -15.139      0.000    -1.8e-06   -1.39e-06\n",
            "floors                1.155e-05   1.43e-05      0.810      0.418   -1.64e-05    3.95e-05\n",
            "sedentaryminutes         0.0001    2.3e-06     64.797      0.000       0.000       0.000\n",
            "lightlyactiveminutes     0.0001   5.56e-06     19.998      0.000       0.000       0.000\n",
            "fairlyactiveminutes      0.0001   1.53e-05      8.190      0.000    9.52e-05       0.000\n",
            "veryactiveminutes        0.0002   1.69e-05     10.905      0.000       0.000       0.000\n",
            "lowrangemins             0.0002   1.86e-06    102.591      0.000       0.000       0.000\n",
            "fatburnmins             -0.0003   6.09e-06    -51.726      0.000      -0.000      -0.000\n",
            "cardiomins              -0.0012   4.49e-05    -26.005      0.000      -0.001      -0.001\n",
            "peakmins                -0.0024   8.88e-05    -27.008      0.000      -0.003      -0.002\n",
            "month                    0.0004   9.56e-05      4.036      0.000       0.000       0.001\n",
            "weekday                  0.0029      0.000     17.525      0.000       0.003       0.003\n",
            "==============================================================================\n",
            "Omnibus:                    27385.692   Durbin-Watson:                   0.706\n",
            "Prob(Omnibus):                  0.000   Jarque-Bera (JB):           667706.699\n",
            "Skew:                          -2.428   Prob(JB):                         0.00\n",
            "Kurtosis:                      21.048   Cond. No.                     6.65e+03\n",
            "==============================================================================\n",
            "\n",
            "Warnings:\n",
            "[1] Standard Errors assume that the covariance matrix of the errors is correctly specified.\n",
            "[2] The condition number is large, 6.65e+03. This might indicate that there are\n",
            "strong multicollinearity or other numerical problems.\n"
          ]
        }
      ]
    },
    {
      "cell_type": "code",
      "source": [
        "x_columns.remove('floors')\n",
        "get_stats()"
      ],
      "metadata": {
        "colab": {
          "base_uri": "https://localhost:8080/"
        },
        "id": "VIBBOURADcVP",
        "outputId": "8fa312ac-d2f7-423b-e055-f1f99792d0f2"
      },
      "execution_count": null,
      "outputs": [
        {
          "output_type": "stream",
          "name": "stdout",
          "text": [
            "                                 OLS Regression Results                                \n",
            "=======================================================================================\n",
            "Dep. Variable:             Efficiency   R-squared (uncentered):                   0.994\n",
            "Model:                            OLS   Adj. R-squared (uncentered):              0.994\n",
            "Method:                 Least Squares   F-statistic:                          6.309e+05\n",
            "Date:                Sat, 06 Aug 2022   Prob (F-statistic):                        0.00\n",
            "Time:                        16:47:08   Log-Likelihood:                          56875.\n",
            "No. Observations:               45875   AIC:                                 -1.137e+05\n",
            "Df Residuals:                   45862   BIC:                                 -1.136e+05\n",
            "Df Model:                          13                                                  \n",
            "Covariance Type:            nonrobust                                                  \n",
            "========================================================================================\n",
            "                           coef    std err          t      P>|t|      [0.025      0.975]\n",
            "----------------------------------------------------------------------------------------\n",
            "meanrate                 0.0061    4.8e-05    127.518      0.000       0.006       0.006\n",
            "sdrate                   0.0106      0.000     81.260      0.000       0.010       0.011\n",
            "steps                -1.577e-06   1.03e-07    -15.352      0.000   -1.78e-06   -1.38e-06\n",
            "sedentaryminutes         0.0001    2.3e-06     64.801      0.000       0.000       0.000\n",
            "lightlyactiveminutes     0.0001   5.56e-06     19.991      0.000       0.000       0.000\n",
            "fairlyactiveminutes      0.0001   1.53e-05      8.210      0.000    9.54e-05       0.000\n",
            "veryactiveminutes        0.0002   1.69e-05     10.908      0.000       0.000       0.000\n",
            "lowrangemins             0.0002   1.86e-06    102.603      0.000       0.000       0.000\n",
            "fatburnmins             -0.0003   6.09e-06    -51.740      0.000      -0.000      -0.000\n",
            "cardiomins              -0.0012   4.49e-05    -26.003      0.000      -0.001      -0.001\n",
            "peakmins                -0.0024   8.88e-05    -27.001      0.000      -0.003      -0.002\n",
            "month                    0.0004   9.52e-05      3.983      0.000       0.000       0.001\n",
            "weekday                  0.0029      0.000     17.517      0.000       0.003       0.003\n",
            "==============================================================================\n",
            "Omnibus:                    27383.335   Durbin-Watson:                   0.706\n",
            "Prob(Omnibus):                  0.000   Jarque-Bera (JB):           667348.585\n",
            "Skew:                          -2.428   Prob(JB):                         0.00\n",
            "Kurtosis:                      21.043   Cond. No.                     6.65e+03\n",
            "==============================================================================\n",
            "\n",
            "Warnings:\n",
            "[1] Standard Errors assume that the covariance matrix of the errors is correctly specified.\n",
            "[2] The condition number is large, 6.65e+03. This might indicate that there are\n",
            "strong multicollinearity or other numerical problems.\n"
          ]
        }
      ]
    },
    {
      "cell_type": "markdown",
      "source": [
        "### **Logistic Regression**"
      ],
      "metadata": {
        "id": "EkOdSFluxsqG"
      }
    },
    {
      "cell_type": "code",
      "source": [
        "# activity metrics: 'meanrate', 'sdrate', 'steps', 'floors', 'sedentaryminutes', 'lightlyactiveminutes', 'fairlyactiveminutes', 'veryactiveminutes', 'lowrangemins', 'fatburnmins', 'cardiomins', 'peakmins', 'month', 'weekday'"
      ],
      "metadata": {
        "id": "I72HYtzUCtW_"
      },
      "execution_count": null,
      "outputs": []
    },
    {
      "cell_type": "code",
      "source": [
        "accuracy = []\n",
        "\n",
        "X = df.drop(['date','timetobed', 'timeoutofbed', 'bedtimedur','minstofallasleep','minsafterwakeup','minsasleep','minsawake','Efficiency','class'], axis=1) \n",
        "y = df['class']\n",
        "\n",
        "min_max_scaler = preprocessing.MinMaxScaler()\n",
        "X = min_max_scaler.fit_transform(X)\n",
        "\n",
        "X_train, X_test, y_train, y_test = train_test_split(X, y, test_size = 0.20)\n",
        "\n",
        "# model = LogisticRegression(multi_class='multinomial', solver='lbfgs', class_weight='balanced', penalty='l2',max_iter=5000)\n",
        "model = LogisticRegression(multi_class='multinomial', solver='lbfgs', max_iter=5000)\n",
        "model.fit(X_train, y_train)\n",
        "y_pred = model.predict(X_test)\n",
        "acc =accuracy_score(y_test,y_pred)\n",
        "accuracy.append(acc)\n",
        "\n",
        "print('Accuracy: ', (sum(accuracy)/len(accuracy)))\n",
        "print('Precision score: ', metrics.precision_score(y_test, y_pred, average='weighted'))\n",
        "print(metrics.classification_report(y_test,y_pred))"
      ],
      "metadata": {
        "colab": {
          "base_uri": "https://localhost:8080/"
        },
        "id": "Wmhlb6njxgb4",
        "outputId": "41f2f572-e41d-4396-ccf3-85ca83e2d12b"
      },
      "execution_count": null,
      "outputs": [
        {
          "output_type": "stream",
          "name": "stdout",
          "text": [
            "Accuracy:  0.9870299727520436\n",
            "Precision score:  0.9742281671108999\n",
            "              precision    recall  f1-score   support\n",
            "\n",
            "           2       0.00      0.00      0.00        11\n",
            "           3       0.00      0.00      0.00        70\n",
            "           4       0.00      0.00      0.00        38\n",
            "           5       0.99      1.00      0.99      9056\n",
            "\n",
            "    accuracy                           0.99      9175\n",
            "   macro avg       0.25      0.25      0.25      9175\n",
            "weighted avg       0.97      0.99      0.98      9175\n",
            "\n"
          ]
        },
        {
          "output_type": "stream",
          "name": "stderr",
          "text": [
            "/usr/local/lib/python3.7/dist-packages/sklearn/metrics/_classification.py:1318: UndefinedMetricWarning: Precision is ill-defined and being set to 0.0 in labels with no predicted samples. Use `zero_division` parameter to control this behavior.\n",
            "  _warn_prf(average, modifier, msg_start, len(result))\n",
            "/usr/local/lib/python3.7/dist-packages/sklearn/metrics/_classification.py:1318: UndefinedMetricWarning: Precision and F-score are ill-defined and being set to 0.0 in labels with no predicted samples. Use `zero_division` parameter to control this behavior.\n",
            "  _warn_prf(average, modifier, msg_start, len(result))\n",
            "/usr/local/lib/python3.7/dist-packages/sklearn/metrics/_classification.py:1318: UndefinedMetricWarning: Precision and F-score are ill-defined and being set to 0.0 in labels with no predicted samples. Use `zero_division` parameter to control this behavior.\n",
            "  _warn_prf(average, modifier, msg_start, len(result))\n",
            "/usr/local/lib/python3.7/dist-packages/sklearn/metrics/_classification.py:1318: UndefinedMetricWarning: Precision and F-score are ill-defined and being set to 0.0 in labels with no predicted samples. Use `zero_division` parameter to control this behavior.\n",
            "  _warn_prf(average, modifier, msg_start, len(result))\n"
          ]
        }
      ]
    },
    {
      "cell_type": "code",
      "source": [
        "from sklearn.preprocessing import StandardScaler\n",
        "import statsmodels.api as sm\n",
        "df2 = df.copy()\n",
        "df2 = df2.set_index('date')\n",
        "\n",
        "# df2\n",
        "x_columns = [\"meanrate\", \"sdrate\", \"steps\", \"floors\", \"sedentaryminutes\", \"lightlyactiveminutes\", \"fairlyactiveminutes\", \"veryactiveminutes\",\"lowrangemins\",\"fatburnmins\",\"cardiomins\",\"peakmins\", \"month\", \"weekday\"]\n",
        "y = df2[\"class\"]\n",
        "\n",
        "\n",
        "def get_stats():\n",
        "    x = df2[x_columns]\n",
        "    sc_X = StandardScaler()\n",
        "    x = sc_X.fit_transform(x)\n",
        "    results = sm.MNLogit(y, x).fit()\n",
        "    print(results.summary())\n",
        "get_stats()"
      ],
      "metadata": {
        "colab": {
          "base_uri": "https://localhost:8080/"
        },
        "id": "l4gMfeh3HApD",
        "outputId": "0aced2e2-11bd-496a-d176-8181c4e2a2a6"
      },
      "execution_count": null,
      "outputs": [
        {
          "output_type": "stream",
          "name": "stdout",
          "text": [
            "Optimization terminated successfully.\n",
            "         Current function value: 1.609096\n",
            "         Iterations 4\n",
            "                          MNLogit Regression Results                          \n",
            "==============================================================================\n",
            "Dep. Variable:                  class   No. Observations:                45875\n",
            "Model:                        MNLogit   Df Residuals:                    45819\n",
            "Method:                           MLE   Df Model:                           52\n",
            "Date:                Sun, 07 Aug 2022   Pseudo R-squ.:                  -19.41\n",
            "Time:                        18:20:20   Log-Likelihood:                -73817.\n",
            "converged:                       True   LL-Null:                       -3616.4\n",
            "Covariance Type:            nonrobust   LLR p-value:                     1.000\n",
            "==============================================================================\n",
            "   class=2       coef    std err          z      P>|z|      [0.025      0.975]\n",
            "------------------------------------------------------------------------------\n",
            "x1            -0.0018      0.027     -0.068      0.946      -0.054       0.050\n",
            "x2            -0.0037      0.026     -0.140      0.889      -0.055       0.048\n",
            "x3             0.0020      0.028      0.072      0.943      -0.052       0.056\n",
            "x4            -0.0002      0.016     -0.015      0.988      -0.031       0.031\n",
            "x5             0.0023      0.020      0.117      0.907      -0.037       0.042\n",
            "x6            -0.0024      0.022     -0.111      0.912      -0.045       0.040\n",
            "x7             0.0006      0.023      0.025      0.980      -0.045       0.046\n",
            "x8            -0.0024      0.028     -0.088      0.930      -0.057       0.052\n",
            "x9            -0.0013      0.019     -0.070      0.944      -0.039       0.036\n",
            "x10            0.0010      0.032      0.031      0.975      -0.062       0.064\n",
            "x11            0.0069      0.020      0.346      0.729      -0.032       0.046\n",
            "x12            0.0005      0.017      0.027      0.979      -0.034       0.034\n",
            "x13            0.0002      0.015      0.016      0.987      -0.029       0.029\n",
            "x14           -0.0011      0.015     -0.072      0.943      -0.030       0.028\n",
            "------------------------------------------------------------------------------\n",
            "   class=3       coef    std err          z      P>|z|      [0.025      0.975]\n",
            "------------------------------------------------------------------------------\n",
            "x1            -0.0042      0.027     -0.159      0.873      -0.056       0.048\n",
            "x2            -0.0299      0.026     -1.136      0.256      -0.081       0.022\n",
            "x3             0.0062      0.028      0.223      0.824      -0.048       0.061\n",
            "x4            -0.0050      0.016     -0.310      0.756      -0.036       0.026\n",
            "x5             0.0060      0.020      0.300      0.765      -0.033       0.045\n",
            "x6            -0.0038      0.022     -0.173      0.863      -0.047       0.039\n",
            "x7             0.0081      0.023      0.351      0.726      -0.037       0.054\n",
            "x8             0.0048      0.028      0.174      0.862      -0.050       0.059\n",
            "x9             0.0047      0.019      0.246      0.806      -0.033       0.042\n",
            "x10           -0.0083      0.033     -0.255      0.799      -0.072       0.055\n",
            "x11            0.0053      0.020      0.264      0.792      -0.034       0.044\n",
            "x12            0.0093      0.017      0.539      0.590      -0.025       0.043\n",
            "x13           -0.0010      0.015     -0.065      0.948      -0.030       0.028\n",
            "x14            0.0006      0.015      0.041      0.967      -0.029       0.030\n",
            "------------------------------------------------------------------------------\n",
            "   class=4       coef    std err          z      P>|z|      [0.025      0.975]\n",
            "------------------------------------------------------------------------------\n",
            "x1            -0.0002      0.027     -0.007      0.995      -0.052       0.052\n",
            "x2            -0.0131      0.026     -0.498      0.619      -0.065       0.038\n",
            "x3            -0.0059      0.028     -0.211      0.832      -0.060       0.049\n",
            "x4            -0.0017      0.016     -0.105      0.917      -0.033       0.030\n",
            "x5             0.0104      0.020      0.521      0.602      -0.029       0.050\n",
            "x6             0.0068      0.022      0.311      0.756      -0.036       0.050\n",
            "x7             0.0035      0.023      0.151      0.880      -0.042       0.049\n",
            "x8             0.0069      0.028      0.251      0.802      -0.047       0.061\n",
            "x9            -0.0046      0.019     -0.243      0.808      -0.042       0.033\n",
            "x10           -0.0074      0.032     -0.229      0.819      -0.071       0.056\n",
            "x11            0.0012      0.020      0.062      0.951      -0.038       0.040\n",
            "x12            0.0016      0.017      0.094      0.925      -0.033       0.036\n",
            "x13            0.0003      0.015      0.019      0.985      -0.029       0.030\n",
            "x14            0.0018      0.015      0.123      0.902      -0.027       0.031\n",
            "------------------------------------------------------------------------------\n",
            "   class=5       coef    std err          z      P>|z|      [0.025      0.975]\n",
            "------------------------------------------------------------------------------\n",
            "x1             0.0126      0.027      0.468      0.639      -0.040       0.065\n",
            "x2             0.0458      0.026      1.740      0.082      -0.006       0.097\n",
            "x3            -0.0132      0.028     -0.477      0.634      -0.068       0.041\n",
            "x4            -0.0006      0.016     -0.038      0.969      -0.032       0.031\n",
            "x5            -0.0189      0.020     -0.940      0.347      -0.058       0.021\n",
            "x6             0.0063      0.022      0.288      0.773      -0.037       0.049\n",
            "x7            -0.0106      0.023     -0.465      0.642      -0.055       0.034\n",
            "x8             0.0021      0.028      0.075      0.940      -0.052       0.056\n",
            "x9             0.0006      0.019      0.031      0.975      -0.037       0.038\n",
            "x10            0.0075      0.032      0.232      0.817      -0.056       0.071\n",
            "x11           -0.0121      0.020     -0.608      0.543      -0.051       0.027\n",
            "x12           -0.0111      0.017     -0.640      0.522      -0.045       0.023\n",
            "x13            0.0009      0.015      0.059      0.953      -0.028       0.030\n",
            "x14           -0.0037      0.015     -0.244      0.807      -0.033       0.026\n",
            "==============================================================================\n"
          ]
        }
      ]
    },
    {
      "cell_type": "code",
      "source": [
        "import statsmodels.api as sm\n",
        "df2 = df.copy()\n",
        "df2 = df2.set_index('date')\n",
        "\n",
        "# df2\n",
        "x_columns = [\"meanrate\", \"sdrate\", \"steps\", \"floors\", \"sedentaryminutes\", \"lightlyactiveminutes\", \"fairlyactiveminutes\", \"veryactiveminutes\",\"lowrangemins\",\"fatburnmins\",\"cardiomins\",\"peakmins\", \"month\", \"weekday\"]\n",
        "y = df2[\"Efficiency\"]\n",
        "\n",
        "\n",
        "def get_stats():\n",
        "    x = df2[x_columns]\n",
        "    results = sm.Logit(y, x).fit()\n",
        "    print(results.summary())\n",
        "get_stats()"
      ],
      "metadata": {
        "colab": {
          "base_uri": "https://localhost:8080/"
        },
        "id": "yNfyiVQJBjYc",
        "outputId": "8d43e888-3708-43ed-f847-8bd94a8b23da"
      },
      "execution_count": null,
      "outputs": [
        {
          "output_type": "stream",
          "name": "stdout",
          "text": [
            "Optimization terminated successfully.\n",
            "         Current function value: 0.095428\n",
            "         Iterations 7\n",
            "                           Logit Regression Results                           \n",
            "==============================================================================\n",
            "Dep. Variable:             Efficiency   No. Observations:                45875\n",
            "Model:                          Logit   Df Residuals:                    45861\n",
            "Method:                           MLE   Df Model:                           13\n",
            "Date:                Sat, 06 Aug 2022   Pseudo R-squ.:                  -8.779\n",
            "Time:                        16:25:27   Log-Likelihood:                -4377.7\n",
            "converged:                       True   LL-Null:                       -447.66\n",
            "Covariance Type:            nonrobust   LLR p-value:                     1.000\n",
            "========================================================================================\n",
            "                           coef    std err          z      P>|z|      [0.025      0.975]\n",
            "----------------------------------------------------------------------------------------\n",
            "meanrate                 0.0141      0.003      5.012      0.000       0.009       0.020\n",
            "sdrate                   0.0384      0.008      5.100      0.000       0.024       0.053\n",
            "steps                 7.166e-06   6.32e-06      1.133      0.257   -5.23e-06    1.96e-05\n",
            "floors                   0.0001      0.001      0.164      0.870      -0.002       0.002\n",
            "sedentaryminutes         0.0006      0.000      4.205      0.000       0.000       0.001\n",
            "lightlyactiveminutes  5.349e-05      0.000      0.162      0.872      -0.001       0.001\n",
            "fairlyactiveminutes     -0.0010      0.001     -1.175      0.240      -0.003       0.001\n",
            "veryactiveminutes       -0.0009      0.001     -0.885      0.376      -0.003       0.001\n",
            "lowrangemins             0.0006      0.000      5.209      0.000       0.000       0.001\n",
            "fatburnmins             -0.0002      0.000     -0.622      0.534      -0.001       0.000\n",
            "cardiomins              -0.0024      0.003     -0.903      0.366      -0.008       0.003\n",
            "peakmins                -0.0057      0.005     -1.044      0.297      -0.016       0.005\n",
            "month                   -0.0061      0.006     -1.069      0.285      -0.017       0.005\n",
            "weekday                  0.0120      0.010      1.250      0.211      -0.007       0.031\n",
            "========================================================================================\n"
          ]
        }
      ]
    },
    {
      "cell_type": "code",
      "source": [
        "# training model with independent variables: sedentary minutes and low range minutes\n",
        "X = df.drop(['date','egoid','complypercent', 'timetobed', 'timeoutofbed','bedtimedur','minstofallasleep','minsafterwakeup','minsasleep','minsawake','Efficiency'], axis=1)\n",
        "X = X.drop('class',axis=1)\n",
        "X = X.drop(['meanrate','sdrate','steps', 'floors','lightlyactiveminutes', 'fairlyactiveminutes', 'veryactiveminutes', 'fatburnmins', 'cardiomins', 'peakmins', 'month', 'weekday'], axis=1) \n",
        "y = df['class']"
      ],
      "metadata": {
        "id": "TjaYf1JRlOPJ"
      },
      "execution_count": null,
      "outputs": []
    },
    {
      "cell_type": "code",
      "source": [
        "acc = []\n",
        "p = []\n",
        "r = []\n",
        "f1 = []\n",
        "\n",
        "kf = KFold(n_splits=5)\n",
        "\n",
        "for train_index, test_index in kf.split(X):\n",
        "  X_train, X_test = X.iloc[train_index], X.iloc[test_index]      \n",
        "  y_train, y_test = y.iloc[train_index],  y.iloc[test_index]\n",
        "\n",
        "  min_max_scaler = preprocessing.MinMaxScaler()\n",
        "  X_train = min_max_scaler.fit_transform(X_train)\n",
        "  X_test = min_max_scaler.fit_transform(X_test)\n",
        "\n",
        "\n",
        "  model = LogisticRegression(multi_class='multinomial', solver='lbfgs', class_weight='balanced', penalty='l2',max_iter=5000)\n",
        "  model.fit(X_train, y_train)\n",
        "  y_pred = model.predict(X_test)\n",
        "\n",
        "  score =accuracy_score(y_test,y_pred)\n",
        "  acc.append(score)\n",
        "  precision = metrics.precision_score(y_test,y_pred, average='weighted')\n",
        "  p.append(precision)\n",
        "  recall = metrics.recall_score(y_test, y_pred, average='weighted')\n",
        "  r.append(recall)\n",
        "  f1score = metrics.f1_score(y_test,y_pred, average='weighted')\n",
        "  f1.append(f1score)\n",
        "\n",
        "print('Average accuracy:', round((sum(acc)/len(acc)),4))\n",
        "print('Average precision:', round((sum(p)/len(p)),4))\n",
        "print('Average recall:', round((sum(r)/len(r)),4))\n",
        "print('Average F1-Score:', round((sum(f1)/len(f1)),4))"
      ],
      "metadata": {
        "colab": {
          "base_uri": "https://localhost:8080/"
        },
        "id": "NNHFjJ-_Carl",
        "outputId": "16a2b238-674f-4dfc-e803-3a8894bcf308"
      },
      "execution_count": null,
      "outputs": [
        {
          "output_type": "stream",
          "name": "stderr",
          "text": [
            "/usr/local/lib/python3.7/dist-packages/sklearn/metrics/_classification.py:1318: UndefinedMetricWarning: Recall is ill-defined and being set to 0.0 in labels with no true samples. Use `zero_division` parameter to control this behavior.\n",
            "  _warn_prf(average, modifier, msg_start, len(result))\n",
            "/usr/local/lib/python3.7/dist-packages/sklearn/metrics/_classification.py:1318: UndefinedMetricWarning: Recall is ill-defined and being set to 0.0 in labels with no true samples. Use `zero_division` parameter to control this behavior.\n",
            "  _warn_prf(average, modifier, msg_start, len(result))\n",
            "/usr/local/lib/python3.7/dist-packages/sklearn/metrics/_classification.py:1318: UndefinedMetricWarning: Recall is ill-defined and being set to 0.0 in labels with no true samples. Use `zero_division` parameter to control this behavior.\n",
            "  _warn_prf(average, modifier, msg_start, len(result))\n"
          ]
        },
        {
          "output_type": "stream",
          "name": "stdout",
          "text": [
            "Average accuracy: 0.6094\n",
            "Average precision: 0.9809\n",
            "Average recall: 0.6094\n",
            "Average F1-Score: 0.7432\n"
          ]
        }
      ]
    },
    {
      "cell_type": "markdown",
      "source": [
        "Result for participant 46558"
      ],
      "metadata": {
        "id": "9wO1okPi5W7t"
      }
    },
    {
      "cell_type": "code",
      "source": [
        "df2 = df2[df2.egoid==46558]\n",
        "df2[\"class\"].value_counts()"
      ],
      "metadata": {
        "colab": {
          "base_uri": "https://localhost:8080/"
        },
        "id": "_Mo2KrHNBBf8",
        "outputId": "06f62567-1a92-4a65-bb86-cecc5a2afd6b"
      },
      "execution_count": null,
      "outputs": [
        {
          "output_type": "execute_result",
          "data": {
            "text/plain": [
              "3    237\n",
              "4     99\n",
              "5     18\n",
              "2     13\n",
              "Name: class, dtype: int64"
            ]
          },
          "metadata": {},
          "execution_count": 42
        }
      ]
    },
    {
      "cell_type": "code",
      "source": [
        "user = df[df.egoid==46558]\n",
        "\n",
        "X = user.drop(['egoid','date','timetobed', 'timeoutofbed', 'bedtimedur','minstofallasleep','minsafterwakeup','minsasleep','minsawake','Efficiency','class'], axis=1) \n",
        "y = user['class']\n",
        "y = np.array(y)\n",
        "min_max_scaler = preprocessing.MinMaxScaler()\n",
        "X = min_max_scaler.fit_transform(X)\n",
        "\n",
        "kf = KFold(n_splits=10)\n",
        "acc = []\n",
        "for train_index, test_index in kf.split(X):\n",
        "  \n",
        "  X_train, X_test = X[train_index], X[test_index]       \n",
        "  y_train,  y_test = y[train_index],  y[test_index]\n",
        "\n",
        "  # model = LogisticRegression(multi_class='multinomial', solver='lbfgs', class_weight='balanced', penalty='l2',max_iter=5000)\n",
        "  model = LogisticRegression(multi_class='multinomial', solver='lbfgs',max_iter=5000)\n",
        "  model.fit(X_train, y_train)\n",
        "  y_pred = model.predict(X_test)\n",
        "  score =accuracy_score(y_test,y_pred)\n",
        "  acc.append(score)\n",
        "\n",
        "print('average accuracy: ', (sum(acc)/len(acc)))"
      ],
      "metadata": {
        "colab": {
          "base_uri": "https://localhost:8080/"
        },
        "id": "ppihp6s5Pex7",
        "outputId": "40236f18-216f-40b6-f836-760e3d88ee4e"
      },
      "execution_count": null,
      "outputs": [
        {
          "output_type": "stream",
          "name": "stdout",
          "text": [
            "average accuracy:  0.621021021021021\n"
          ]
        }
      ]
    },
    {
      "cell_type": "code",
      "source": [
        "acc = []\n",
        "user = df[df.egoid==46558]\n",
        "# steps\n",
        "X = user.drop(['date','egoid','complypercent','peakmins','floors','sdrate','steps','month','weekday','veryactiveminutes','cardiomins','fatburnmins','timetobed', 'timeoutofbed', 'bedtimedur','minstofallasleep','minsafterwakeup','minsasleep','minsawake','Efficiency','class'], axis=1) \n",
        "y = user['class']\n",
        "\n",
        "\n",
        "X_train, X_test, y_train, y_test = train_test_split(X, y, test_size = 0.20)\n",
        "\n",
        "model = LogisticRegression(multi_class='multinomial', solver='lbfgs', class_weight='balanced', penalty='l2',max_iter=5000)\n",
        "model.fit(X_train, y_train)\n",
        "y_pred = model.predict(X_test)\n",
        "score =accuracy_score(y_test,y_pred)\n",
        "print(score)\n",
        "print(metrics.classification_report(y_test, y_pred))"
      ],
      "metadata": {
        "colab": {
          "base_uri": "https://localhost:8080/"
        },
        "id": "2PMp3ttt92kt",
        "outputId": "db3b11cf-2910-4475-fb72-a898d0c795a8"
      },
      "execution_count": null,
      "outputs": [
        {
          "output_type": "stream",
          "name": "stdout",
          "text": [
            "0.47297297297297297\n",
            "              precision    recall  f1-score   support\n",
            "\n",
            "           2       0.06      1.00      0.11         1\n",
            "           3       0.86      0.46      0.60        52\n",
            "           4       0.47      0.47      0.47        19\n",
            "           5       0.11      0.50      0.18         2\n",
            "\n",
            "    accuracy                           0.47        74\n",
            "   macro avg       0.37      0.61      0.34        74\n",
            "weighted avg       0.73      0.47      0.55        74\n",
            "\n"
          ]
        }
      ]
    },
    {
      "cell_type": "code",
      "source": [
        "# indepedent variables = mean rate, sedentary minutes and lightly active minutes\n",
        "\n",
        "df2 = df.copy()\n",
        "df2 = df2[df2.egoid==46558]\n",
        "X = df2.drop(['date','egoid','complypercent', 'timetobed', 'timeoutofbed','bedtimedur','minstofallasleep','minsafterwakeup','minsasleep','minsawake','Efficiency'], axis=1)\n",
        "X = X.drop('class',axis=1)\n",
        "X = X.drop(['sdrate','floors','steps', 'fairlyactiveminutes', 'veryactiveminutes', 'fatburnmins', 'lowrangemins','cardiomins', 'peakmins','month', 'weekday'], axis=1) \n",
        "y = df2['class']"
      ],
      "metadata": {
        "id": "0rioIC1SqVi-"
      },
      "execution_count": null,
      "outputs": []
    },
    {
      "cell_type": "code",
      "source": [
        "min_max_scaler = preprocessing.MinMaxScaler()\n",
        "X = min_max_scaler.fit_transform(X)\n",
        "y = np.array(y)\n",
        "\n",
        "kf = KFold(n_splits=10)\n",
        "acc = []\n",
        "for train_index, test_index in kf.split(X):\n",
        "  \n",
        "  X_train, X_test = X[train_index], X[test_index]       \n",
        "  y_train,  y_test = y[train_index],  y[test_index]\n",
        "\n",
        "  # model = LogisticRegression(multi_class='multinomial', solver='lbfgs', class_weight='balanced', penalty='l2',max_iter=5000)\n",
        "  model = LogisticRegression(multi_class='multinomial', solver='lbfgs',max_iter=5000)\n",
        "  model.fit(X_train, y_train)\n",
        "  y_pred = model.predict(X_test)\n",
        "  score =accuracy_score(y_test,y_pred)\n",
        "  acc.append(score)\n",
        "\n",
        "print('average accuracy: ', (sum(acc)/len(acc)))"
      ],
      "metadata": {
        "colab": {
          "base_uri": "https://localhost:8080/"
        },
        "id": "GFpbEvfo3-rh",
        "outputId": "a34ceec9-4f63-473e-8bcc-47dba124c865"
      },
      "execution_count": null,
      "outputs": [
        {
          "output_type": "stream",
          "name": "stdout",
          "text": [
            "average accuracy:  0.6534534534534534\n"
          ]
        }
      ]
    },
    {
      "cell_type": "markdown",
      "source": [
        "Result for participant 33657"
      ],
      "metadata": {
        "id": "NjHKu9yg5faq"
      }
    },
    {
      "cell_type": "code",
      "source": [
        "user = df[df.egoid==33657]\n",
        "user['class'].value_counts()"
      ],
      "metadata": {
        "colab": {
          "base_uri": "https://localhost:8080/"
        },
        "id": "jn6xOa2tBZcF",
        "outputId": "8edb4d1f-eea0-47a4-c427-f75808efc583"
      },
      "execution_count": null,
      "outputs": [
        {
          "output_type": "execute_result",
          "data": {
            "text/plain": [
              "5    363\n",
              "3      2\n",
              "2      1\n",
              "4      1\n",
              "1      0\n",
              "Name: class, dtype: int64"
            ]
          },
          "metadata": {},
          "execution_count": 57
        }
      ]
    },
    {
      "cell_type": "code",
      "source": [
        "user = df[df.egoid==33657]\n",
        "\n",
        "X = user.drop(['timetobed', 'timeoutofbed', 'bedtimedur','minstofallasleep','minsafterwakeup','minsasleep','minsawake','Efficiency','class'], axis=1) \n",
        "y = user['class']\n",
        "\n",
        "\n",
        "tscv = TimeSeriesSplit(n_splits=5)\n",
        "acc = []\n",
        "\n",
        "for train_index, test_index in tscv.split(X):\n",
        "\n",
        "  X_train, X_test = X.iloc[train_index], X.iloc[test_index]      \n",
        "  y_train, y_test = y.iloc[train_index],  y.iloc[test_index]\n",
        "\n",
        "  X_train = X_train.drop(['date','egoid'],axis=1)\n",
        "  X_test = X_test.drop(['date','egoid'], axis=1)\n",
        "\n",
        "  min_max_scaler = preprocessing.MinMaxScaler()\n",
        "  X_train = min_max_scaler.fit_transform(X_train)\n",
        "  X_test = min_max_scaler.fit_transform(X_test)\n",
        "\n",
        "  model = LogisticRegression(multi_class='multinomial', solver='lbfgs', penalty='l2',max_iter=5000)\n",
        "  model.fit(X_train, y_train)\n",
        "  y_pred = model.predict(X_test)\n",
        "  score =accuracy_score(y_test,y_pred)\n",
        "  acc.append(score)\n",
        "\n",
        "print('average accuracy: ', (sum(acc)/len(acc)))"
      ],
      "metadata": {
        "colab": {
          "base_uri": "https://localhost:8080/"
        },
        "id": "XHfpwGwuxdoW",
        "outputId": "a24501d6-9a53-4413-b96d-38c5a2a3232e"
      },
      "execution_count": 90,
      "outputs": [
        {
          "output_type": "stream",
          "name": "stdout",
          "text": [
            "average accuracy:  0.9967213114754099\n"
          ]
        }
      ]
    },
    {
      "cell_type": "code",
      "source": [
        "# independent variables = mean rate and peak mins\n",
        "\n",
        "df2 = df.copy()\n",
        "df2 = df2[df2.egoid==33657]\n",
        "X = df2.drop(['date','egoid','complypercent', 'timetobed', 'timeoutofbed','bedtimedur','minstofallasleep','minsafterwakeup','minsasleep','minsawake','Efficiency'], axis=1)\n",
        "X = X.drop('class',axis=1)\n",
        "X = X.drop(['sdrate','floors','steps', 'sedentaryminutes','lightlyactiveminutes','fairlyactiveminutes', 'veryactiveminutes', 'fatburnmins', 'lowrangemins','cardiomins', 'month', 'weekday'], axis=1) \n",
        "y = df2['class']\n",
        "\n",
        "acc = []\n",
        "kf = KFold(n_splits=5)\n",
        "\n",
        "for train_index, test_index in kf.split(X):\n",
        "  X_train, X_test = X.iloc[train_index], X.iloc[test_index]      \n",
        "  y_train, y_test = y.iloc[train_index],  y.iloc[test_index]\n",
        "\n",
        "  min_max_scaler = preprocessing.MinMaxScaler()\n",
        "  X_train = min_max_scaler.fit_transform(X_train)\n",
        "  X_test = min_max_scaler.fit_transform(X_test)\n",
        "\n",
        "\n",
        "  model = LogisticRegression(multi_class='multinomial', solver='lbfgs', class_weight='balanced', penalty='l2',max_iter=5000)\n",
        "  # model = LogisticRegression(multi_class='multinomial', solver='lbfgs',max_iter=5000)\n",
        "  model.fit(X_train, y_train)\n",
        "  y_pred = model.predict(X_test)\n",
        "\n",
        "  score =accuracy_score(y_test,y_pred)\n",
        "  acc.append(score)\n",
        "print('Average accuracy: ', (sum(acc)/len(acc)))\n",
        "# print(metrics.classification_report(y_test, y_pred))"
      ],
      "metadata": {
        "colab": {
          "base_uri": "https://localhost:8080/"
        },
        "id": "XSLq5TVeyr3i",
        "outputId": "3095795f-2c32-4406-dddc-6e23d690124a"
      },
      "execution_count": null,
      "outputs": [
        {
          "output_type": "stream",
          "name": "stdout",
          "text": [
            "Average accuracy:  0.5743798593113661\n"
          ]
        }
      ]
    },
    {
      "cell_type": "code",
      "source": [
        "# independent variables: mean rate, sedentary minutes, lightly active minutes\n",
        "\n",
        "df2 = df.copy()\n",
        "df2 = df2[df2.egoid==33657]\n",
        "X = df2.drop(['date','egoid','complypercent', 'timetobed', 'timeoutofbed','bedtimedur','minstofallasleep','minsafterwakeup','minsasleep','minsawake','Efficiency'], axis=1)\n",
        "X = X.drop('class',axis=1)\n",
        "X = X.drop(['sdrate','floors','steps', 'fairlyactiveminutes', 'veryactiveminutes', 'fatburnmins', 'lowrangemins','cardiomins', 'peakmins','month', 'weekday'], axis=1) \n",
        "y = df2['class']\n",
        "\n",
        "acc = []\n",
        "kf = KFold(n_splits=5)\n",
        "\n",
        "for train_index, test_index in kf.split(X):\n",
        "  X_train, X_test = X.iloc[train_index], X.iloc[test_index]      \n",
        "  y_train, y_test = y.iloc[train_index],  y.iloc[test_index]\n",
        "\n",
        "  min_max_scaler = preprocessing.MinMaxScaler()\n",
        "  X_train = min_max_scaler.fit_transform(X_train)\n",
        "  X_test = min_max_scaler.fit_transform(X_test)\n",
        "\n",
        "\n",
        "  model = LogisticRegression(multi_class='multinomial', solver='lbfgs', class_weight='balanced', penalty='l2',max_iter=5000)\n",
        "  # model = LogisticRegression(multi_class='multinomial', solver='lbfgs',max_iter=5000)\n",
        "  model.fit(X_train, y_train)\n",
        "  y_pred = model.predict(X_test)\n",
        "\n",
        "  score =accuracy_score(y_test,y_pred)\n",
        "  acc.append(score)\n",
        "print('Average accuracy: ', (sum(acc)/len(acc)))"
      ],
      "metadata": {
        "id": "nO6HmrWYxYzL",
        "colab": {
          "base_uri": "https://localhost:8080/"
        },
        "outputId": "9ff28c59-2ee2-4a62-82e4-7c7229b78c32"
      },
      "execution_count": null,
      "outputs": [
        {
          "output_type": "stream",
          "name": "stdout",
          "text": [
            "Average accuracy:  0.530803406145872\n"
          ]
        }
      ]
    }
  ]
}